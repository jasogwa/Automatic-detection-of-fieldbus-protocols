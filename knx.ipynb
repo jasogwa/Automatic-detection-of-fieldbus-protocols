{
 "cells": [
  {
   "cell_type": "code",
   "execution_count": 1,
   "metadata": {},
   "outputs": [],
   "source": [
    "import numpy as np\n",
    "import operator"
   ]
  },
  {
   "cell_type": "code",
   "execution_count": 2,
   "metadata": {},
   "outputs": [],
   "source": [
    "#PH = \"BC331D000103008066390ACC\"\n",
    "PH = \"BC11021000E1008120CC\" #telegram in hex\n",
    "Controlf = \"B0B8B4BC9C\"     #control field in hex\n",
    "AC = \"0CC0CC\"               #acknoledgement field in hex"
   ]
  },
  {
   "cell_type": "code",
   "execution_count": 3,
   "metadata": {},
   "outputs": [],
   "source": [
    "def hextobin(h):\n",
    "    return bin(int(h, 16))[2:].zfill(len(h) * 4)"
   ]
  },
  {
   "cell_type": "code",
   "execution_count": 4,
   "metadata": {},
   "outputs": [],
   "source": [
    "def bitlength(n):\n",
    "    return len(n)"
   ]
  },
  {
   "cell_type": "code",
   "execution_count": 5,
   "metadata": {},
   "outputs": [
    {
     "data": {
      "text/plain": [
       "'10111100000100010000001000010000000000001110000100000000100000010010000011001100'"
      ]
     },
     "execution_count": 5,
     "metadata": {},
     "output_type": "execute_result"
    }
   ],
   "source": [
    "PB = hextobin(PH)           #telegram in binary\n",
    "PB"
   ]
  },
  {
   "cell_type": "code",
   "execution_count": 6,
   "metadata": {},
   "outputs": [
    {
     "data": {
      "text/plain": [
       "80"
      ]
     },
     "execution_count": 6,
     "metadata": {},
     "output_type": "execute_result"
    }
   ],
   "source": [
    "NB = bitlength(PB)\n",
    "NB"
   ]
  },
  {
   "cell_type": "code",
   "execution_count": 7,
   "metadata": {},
   "outputs": [
    {
     "data": {
      "text/plain": [
       "bytearray(b'\\xbc\\x11\\x02\\x10\\x00\\xe1\\x00\\x81 \\xcc')"
      ]
     },
     "execution_count": 7,
     "metadata": {},
     "output_type": "execute_result"
    }
   ],
   "source": [
    "def hextobytearray(s):\n",
    "    byte_array = bytearray.fromhex(s)\n",
    "    return byte_array\n",
    "hextobytearray(PH)"
   ]
  },
  {
   "cell_type": "code",
   "execution_count": 8,
   "metadata": {},
   "outputs": [],
   "source": [
    "ACK = hextobytearray(AC)    #ack field to byte array"
   ]
  },
  {
   "cell_type": "code",
   "execution_count": 9,
   "metadata": {
    "scrolled": true
   },
   "outputs": [
    {
     "name": "stdout",
     "output_type": "stream",
     "text": [
      "b'\\xbc\\x11\\x02\\x10\\x00\\xe1\\x00\\x81 \\xcc'\n"
     ]
    }
   ],
   "source": [
    "def bitstringtobytes(s):\n",
    "    return int(s, 2).to_bytes(len(s) // 8, byteorder='big')\n",
    "\n",
    "print(bitstringtobytes(PB))\n"
   ]
  },
  {
   "cell_type": "code",
   "execution_count": 10,
   "metadata": {},
   "outputs": [],
   "source": [
    "def bytearrayrange(n):\n",
    "    bytes = range(n) \n",
    "    byte_array = bytearray(bytes)\n",
    "    return byte_array\n",
    "Lf = bytearrayrange(16)"
   ]
  },
  {
   "cell_type": "code",
   "execution_count": 11,
   "metadata": {},
   "outputs": [],
   "source": [
    "PBlast = hextobytearray(PH)[-1:]"
   ]
  },
  {
   "cell_type": "code",
   "execution_count": 12,
   "metadata": {},
   "outputs": [
    {
     "name": "stdout",
     "output_type": "stream",
     "text": [
      "yes\n"
     ]
    }
   ],
   "source": [
    "if (72 <= NB <= 192):\n",
    "    if (hextobytearray(PH)[:1] in hextobytearray(Controlf)):\n",
    "        if(PBlast in ACK):\n",
    "            print(\"yes\")\n"
   ]
  },
  {
   "cell_type": "code",
   "execution_count": 13,
   "metadata": {},
   "outputs": [
    {
     "data": {
      "text/plain": [
       "bytearray(b'\\x81')"
      ]
     },
     "execution_count": 13,
     "metadata": {},
     "output_type": "execute_result"
    }
   ],
   "source": [
    "CHb =  hextobytearray(PH)[-3:-2]     #checksum byte array\n",
    "CHb"
   ]
  },
  {
   "cell_type": "code",
   "execution_count": 14,
   "metadata": {},
   "outputs": [
    {
     "data": {
      "text/plain": [
       "bytearray(b'\\xbc\\x11\\x02\\x10\\x00\\xe1\\x00')"
      ]
     },
     "execution_count": 14,
     "metadata": {},
     "output_type": "execute_result"
    }
   ],
   "source": [
    "PHbch =  hextobytearray(PH)[:-3]    #telegram before the checksum in byte array\n",
    "PHbch"
   ]
  },
  {
   "cell_type": "code",
   "execution_count": 15,
   "metadata": {},
   "outputs": [],
   "source": [
    "x2 = bin(int.from_bytes(bitstringtobytes(PB), byteorder=\"big\")).strip('0b') #convert bytestring to bits string\n",
    "digits = [int(x) for x in x2]"
   ]
  },
  {
   "cell_type": "code",
   "execution_count": 16,
   "metadata": {},
   "outputs": [
    {
     "data": {
      "text/plain": [
       "bytearray(b'\\x11\\x02')"
      ]
     },
     "execution_count": 16,
     "metadata": {},
     "output_type": "execute_result"
    }
   ],
   "source": [
    "srcAddr = hextobytearray(PH)[1:3]  #source address in byte array\n",
    "srcAddr\n"
   ]
  },
  {
   "cell_type": "code",
   "execution_count": 17,
   "metadata": {},
   "outputs": [
    {
     "data": {
      "text/plain": [
       "bytearray(b'\\xbc\\x11\\x02\\x10\\x00\\xe1\\x00\\x81 \\xcc')"
      ]
     },
     "execution_count": 17,
     "metadata": {},
     "output_type": "execute_result"
    }
   ],
   "source": [
    "data = hextobytearray(PH)\n",
    "data"
   ]
  },
  {
   "cell_type": "code",
   "execution_count": 18,
   "metadata": {},
   "outputs": [],
   "source": [
    "def bool2int(x):\n",
    "    y = 0\n",
    "    for i,j in enumerate(x):\n",
    "        y += j<<i\n",
    "    return y"
   ]
  },
  {
   "cell_type": "code",
   "execution_count": 19,
   "metadata": {
    "scrolled": true
   },
   "outputs": [
    {
     "name": "stdout",
     "output_type": "stream",
     "text": [
      "1.1.2\n"
     ]
    }
   ],
   "source": [
    "def sourceAddress(data):\n",
    "    x = np.frombuffer(bitstringtobytes(data), dtype=np.uint8)\n",
    "    newarr = np.unpackbits(x).reshape(-1, 4)\n",
    "    add = newarr[2:6]\n",
    "    area = np.array([add[0]])\n",
    "    line = np.array([add[1]])\n",
    "    area_line = np.concatenate((area, line))\n",
    "    participant = np.concatenate((add[2],add[3]))\n",
    "    c = [bool2int(i[::-1]) for i in  area_line]  \n",
    "    res = int(\"\".join(str(x) for x in participant), 2)\n",
    "\n",
    "    c.append(res)                                  #return c for address in array format\n",
    "\n",
    "    return  \"%d.%d.%d\"%(c[0], c[1], res)\n",
    "\n",
    "src = sourceAddress(PB)\n",
    "\n",
    "print(src)"
   ]
  },
  {
   "cell_type": "code",
   "execution_count": 20,
   "metadata": {},
   "outputs": [
    {
     "name": "stdout",
     "output_type": "stream",
     "text": [
      "2/0/0\n"
     ]
    }
   ],
   "source": [
    "def destinationAddress(data):\n",
    "    x = np.frombuffer(bitstringtobytes(data), dtype=np.uint8)\n",
    "    newarr = np.unpackbits(x).reshape(-1, 8)\n",
    "\n",
    "    check = newarr[5][0]            #check if it is a physical or group address\n",
    "    check3 = np.array(newarr[3])\n",
    "    check4 = np.array(newarr[4])\n",
    "\n",
    "    if(check == 0):   #physical address\n",
    "\n",
    "        address = np.concatenate((check3,check4))\n",
    "        new = address.reshape(-1, 4)\n",
    "        main = np.array([new[0]])\n",
    "        middle = np.array([new[1]])\n",
    "        main_middle = np.concatenate((main, middle))\n",
    "        subgroup = np.concatenate((new[2],new[3]))\n",
    "        c = [bool2int(i[::-1]) for i in  main_middle]   \n",
    "        res = int(\"\".join(str(x) for x in subgroup), 2)\n",
    "        c.append(res) \n",
    "\n",
    "        return  \"%d/%d/%d\"%(c[0], c[1], res)\n",
    "\n",
    "    else:               #group address\n",
    "        address = np.concatenate((check3,check4))\n",
    "        main =  int(\"\".join(str(x) for x in address[:5]), 2)\n",
    "        middle = int(\"\".join(str(x) for x in address[5:8]), 2)\n",
    "        sub =  int(\"\".join(str(x) for x in address[8:]), 2)\n",
    "\n",
    "        return \"%d/%d/%d\"%(main, middle, sub)\n",
    "\n",
    "des = destinationAddress(PB)\n",
    "\n",
    "print(des)"
   ]
  },
  {
   "cell_type": "code",
   "execution_count": 21,
   "metadata": {},
   "outputs": [
    {
     "name": "stdout",
     "output_type": "stream",
     "text": [
      "6\n"
     ]
    }
   ],
   "source": [
    "def routingCounter(data):\n",
    "    x = np.frombuffer(bitstringtobytes(data), dtype=np.uint8)\n",
    "    newarr = np.unpackbits(x).reshape(-1, 8)[5]\n",
    "    new = newarr.reshape(-1, 4)[0][1:]\n",
    "    counter =  int(\"\".join(str(x) for x in new), 2)\n",
    "    return counter\n",
    "\n",
    "route = routingCounter(PB)\n",
    "print(route)"
   ]
  },
  {
   "cell_type": "code",
   "execution_count": 22,
   "metadata": {},
   "outputs": [
    {
     "name": "stdout",
     "output_type": "stream",
     "text": [
      "1\n"
     ]
    }
   ],
   "source": [
    "def payloadLength(data):\n",
    "    x = np.frombuffer(bitstringtobytes(data), dtype=np.uint8)\n",
    "    newarr = np.unpackbits(x).reshape(-1, 8)[5]\n",
    "    new = newarr.reshape(-1, 4)[1]\n",
    "    payload =  int(\"\".join(str(x) for x in new), 2)\n",
    "    return payload\n",
    "\n",
    "load = payloadLength(PB)\n",
    "print(load)"
   ]
  },
  {
   "cell_type": "code",
   "execution_count": null,
   "metadata": {},
   "outputs": [],
   "source": []
  },
  {
   "cell_type": "code",
   "execution_count": 23,
   "metadata": {},
   "outputs": [
    {
     "data": {
      "text/plain": [
       "15624"
      ]
     },
     "execution_count": 23,
     "metadata": {},
     "output_type": "execute_result"
    }
   ],
   "source": [
    "def crc16(data: bytes):\n",
    "    xor_in = 0x0000  # initial value\n",
    "    xor_out = 0x0000  # final XOR value\n",
    "    poly = 0x8005  # generator polinom (normal form)\n",
    "\n",
    "    reg = xor_in\n",
    "    for octet in data:\n",
    "        # reflect in\n",
    "        for i in range(8):\n",
    "            topbit = reg & 0x8000\n",
    "            if octet & (0x80 >> i):\n",
    "                topbit ^= 0x8000\n",
    "            reg <<= 1\n",
    "            if topbit:\n",
    "                reg ^= poly\n",
    "        reg &= 0xFFFF\n",
    "        # reflect out\n",
    "    return reg ^ xor_out\n",
    "crc = crc16(bitstringtobytes(PB))\n",
    "crc"
   ]
  },
  {
   "cell_type": "code",
   "execution_count": 24,
   "metadata": {},
   "outputs": [],
   "source": [
    "def calculate_checksum(payload):\n",
    "\tmagicValue = 0x55\n",
    "\tmask = 0xFF\n",
    "\n",
    "\tchecksum = 0\n",
    "\tfor element in payload:\n",
    "\t\tchecksum = operator.add(checksum,element)\n",
    "\tchecksum =  operator.xor(checksum,magicValue)\n",
    "\treturn checksum & mask"
   ]
  },
  {
   "cell_type": "code",
   "execution_count": 25,
   "metadata": {},
   "outputs": [
    {
     "data": {
      "text/plain": [
       "120"
      ]
     },
     "execution_count": 25,
     "metadata": {},
     "output_type": "execute_result"
    }
   ],
   "source": [
    "calculate_checksum(data)"
   ]
  },
  {
   "cell_type": "code",
   "execution_count": 26,
   "metadata": {},
   "outputs": [],
   "source": [
    "# Declaring byte value  BCE0361C12A502008009C4\n",
    "byte_val = b'\\xbc'\n",
    "#byte = b'\\x36\\x1C\\x12\\xA5\\x02\\x00\\x80\\x09\\xC4'\n",
    "byte = b'\\x1C\\x12'"
   ]
  },
  {
   "cell_type": "code",
   "execution_count": 27,
   "metadata": {},
   "outputs": [],
   "source": [
    "# Converting to int\n",
    "int_val = int.from_bytes(byte_val, \"big\")\n",
    "int_va1 = int.from_bytes(byte, \"big\")"
   ]
  },
  {
   "cell_type": "code",
   "execution_count": 28,
   "metadata": {},
   "outputs": [
    {
     "name": "stdout",
     "output_type": "stream",
     "text": [
      "188 7186\n"
     ]
    }
   ],
   "source": [
    "# printing int equivalent\n",
    "print(int_val,int_va1)"
   ]
  },
  {
   "cell_type": "code",
   "execution_count": null,
   "metadata": {},
   "outputs": [],
   "source": []
  }
 ],
 "metadata": {
  "kernelspec": {
   "display_name": "Python 3",
   "language": "python",
   "name": "python3"
  },
  "language_info": {
   "codemirror_mode": {
    "name": "ipython",
    "version": 3
   },
   "file_extension": ".py",
   "mimetype": "text/x-python",
   "name": "python",
   "nbconvert_exporter": "python",
   "pygments_lexer": "ipython3",
   "version": "3.7.4"
  }
 },
 "nbformat": 4,
 "nbformat_minor": 2
}
