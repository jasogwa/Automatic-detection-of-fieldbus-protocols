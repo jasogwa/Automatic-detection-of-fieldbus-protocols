{
 "cells": [
  {
   "cell_type": "code",
   "execution_count": 44,
   "id": "a50da207",
   "metadata": {},
   "outputs": [],
   "source": [
    "import os\n",
    "from spoa import poa"
   ]
  },
  {
   "cell_type": "code",
   "execution_count": 45,
   "id": "9c2f1de4",
   "metadata": {},
   "outputs": [
    {
     "name": "stdout",
     "output_type": "stream",
     "text": [
      "Automatically created module for IPython interactive environment\n"
     ]
    }
   ],
   "source": [
    "print(__doc__)\n",
    "\n",
    "import numpy as np\n",
    "from sklearn.cluster import DBSCAN\n",
    "from sklearn import metrics\n",
    "import Levenshtein\n",
    "import csv\n",
    "import pandas as pd"
   ]
  },
  {
   "cell_type": "code",
   "execution_count": 46,
   "id": "518f6655",
   "metadata": {},
   "outputs": [],
   "source": [
    "%matplotlib inline\n",
    "from matplotlib import pyplot as plt\n",
    "import seaborn as sns\n",
    "from sklearn.datasets import make_blobs\n",
    "from sklearn.preprocessing import StandardScaler"
   ]
  },
  {
   "cell_type": "code",
   "execution_count": 47,
   "id": "6800aafb",
   "metadata": {},
   "outputs": [],
   "source": [
    "# Distance metric\n",
    "def lev_metric(x, y):\n",
    "    i, j = int(x[0]), int(y[0])\n",
    "    return (Levenshtein.distance(b1[i], b1[j]))"
   ]
  },
  {
   "cell_type": "code",
   "execution_count": 48,
   "id": "2a04afca",
   "metadata": {},
   "outputs": [],
   "source": [
    "df = pd.read_csv(\"~/Desktop/align/knx.csv\")\n",
    "b1 = df.Protocols.to_list()"
   ]
  },
  {
   "cell_type": "code",
   "execution_count": 49,
   "id": "40a39d75",
   "metadata": {},
   "outputs": [],
   "source": [
    "X1 = np.arange(len(b1)).reshape(-1, 1) "
   ]
  },
  {
   "cell_type": "code",
   "execution_count": 50,
   "id": "460f4a9c",
   "metadata": {},
   "outputs": [],
   "source": [
    "# Defining DBSCAN Parameters and clustering\n",
    "db = DBSCAN(eps = 2, min_samples = 2, metric = lev_metric)\n",
    "predictions = db.fit_predict(X1)"
   ]
  },
  {
   "cell_type": "code",
   "execution_count": 51,
   "id": "3c252014",
   "metadata": {},
   "outputs": [
    {
     "data": {
      "text/plain": [
       "Text(0.5, 1.0, 'DBSCAN')"
      ]
     },
     "execution_count": 51,
     "metadata": {},
     "output_type": "execute_result"
    },
    {
     "data": {
      "image/png": "[encoded data removed]",
      "text/plain": [
       "<Figure size 432x288 with 1 Axes>"
      ]
     },
     "metadata": {
      "needs_background": "light"
     },
     "output_type": "display_data"
    }
   ],
   "source": [
    "ss = StandardScaler()\n",
    "X = ss.fit_transform(X1)\n",
    "db = DBSCAN(eps = 2, min_samples = 2, metric = lev_metric)\n",
    "db.fit(X)\n",
    "y_pred = db.fit_predict(X)\n",
    "plt.scatter(X[:,0], X[:,],c=y_pred, cmap='Paired')\n",
    "plt.title(\"DBSCAN\")"
   ]
  },
  {
   "cell_type": "code",
   "execution_count": 52,
   "id": "fea605ac",
   "metadata": {},
   "outputs": [
    {
     "name": "stdout",
     "output_type": "stream",
     "text": [
      "                   messages  cluster_id\n",
      "77       BCE0362B0321000081          -1\n",
      "37   BCE03619128C0200800136          -1\n",
      "38   BCE0361C12A50200800136          -1\n",
      "15   BCE0362712F00200802710          -1\n",
      "13   BCE0361612B60200800CDB          -1\n",
      "..                      ...         ...\n",
      "200  BCE0361612B60200800D14          12\n",
      "245  BCE0361612B60200800D14          12\n",
      "128  BCE0362712F00200800000          13\n",
      "206  BCE0362712F00200800000          13\n",
      "217  BCE0362712F00200800000          13\n",
      "\n",
      "[265 rows x 2 columns]\n"
     ]
    }
   ],
   "source": [
    "# Printing results \n",
    "tmp = pd.DataFrame({'messages': b1, 'cluster_id': predictions})\n",
    "tmp.sort_values(by = ['cluster_id'], ascending = True, inplace = True)\n",
    "print (tmp)"
   ]
  },
  {
   "cell_type": "code",
   "execution_count": 53,
   "id": "cef32807",
   "metadata": {},
   "outputs": [],
   "source": [
    "df_group = (tmp.groupby(['cluster_id'])['messages'].apply(','.join).reset_index())"
   ]
  },
  {
   "cell_type": "code",
   "execution_count": 54,
   "id": "7aa81e87",
   "metadata": {},
   "outputs": [
    {
     "data": {
      "text/html": [
       "<div>\n",
       "<style scoped>\n",
       "    .dataframe tbody tr th:only-of-type {\n",
       "        vertical-align: middle;\n",
       "    }\n",
       "\n",
       "    .dataframe tbody tr th {\n",
       "        vertical-align: top;\n",
       "    }\n",
       "\n",
       "    .dataframe thead th {\n",
       "        text-align: right;\n",
       "    }\n",
       "</style>\n",
       "<table border=\"1\" class=\"dataframe\">\n",
       "  <thead>\n",
       "    <tr style=\"text-align: right;\">\n",
       "      <th></th>\n",
       "      <th>cluster_id</th>\n",
       "      <th>messages</th>\n",
       "    </tr>\n",
       "  </thead>\n",
       "  <tbody>\n",
       "    <tr>\n",
       "      <th>0</th>\n",
       "      <td>-1</td>\n",
       "      <td>BCE0362B0321000081,BCE03619128C0200800136,BCE0...</td>\n",
       "    </tr>\n",
       "    <tr>\n",
       "      <th>1</th>\n",
       "      <td>0</td>\n",
       "      <td>BCE036191290000081,BCE036191281000080,BCE03619...</td>\n",
       "    </tr>\n",
       "    <tr>\n",
       "      <th>2</th>\n",
       "      <td>1</td>\n",
       "      <td>BCE0361C129D0200800CA9,BCE0361C129D0200800CA9</td>\n",
       "    </tr>\n",
       "    <tr>\n",
       "      <th>3</th>\n",
       "      <td>2</td>\n",
       "      <td>BCE0361612B20200800CAD,BCE0361612B20200800CB1,...</td>\n",
       "    </tr>\n",
       "    <tr>\n",
       "      <th>4</th>\n",
       "      <td>3</td>\n",
       "      <td>BCE03619128C02008009C4,BCE03619128C0200800000,...</td>\n",
       "    </tr>\n",
       "    <tr>\n",
       "      <th>5</th>\n",
       "      <td>4</td>\n",
       "      <td>BCE0361C12A502008009C4,BCE0361C12A50200800000,...</td>\n",
       "    </tr>\n",
       "    <tr>\n",
       "      <th>6</th>\n",
       "      <td>5</td>\n",
       "      <td>BCE0361612BE0200800000,BCE0361612BE0200800000,...</td>\n",
       "    </tr>\n",
       "    <tr>\n",
       "      <th>7</th>\n",
       "      <td>6</td>\n",
       "      <td>BCE0361012670200800CA7,BCE03610126B0200800C1A,...</td>\n",
       "    </tr>\n",
       "    <tr>\n",
       "      <th>8</th>\n",
       "      <td>7</td>\n",
       "      <td>BCE0362712E80200800D14,BCE0362712E80200800D14</td>\n",
       "    </tr>\n",
       "    <tr>\n",
       "      <th>9</th>\n",
       "      <td>8</td>\n",
       "      <td>BCE0362712E40200800CBC,BCE0362712E80200800CB0,...</td>\n",
       "    </tr>\n",
       "    <tr>\n",
       "      <th>10</th>\n",
       "      <td>9</td>\n",
       "      <td>BCE0362E094B000080,BCE0362E094C000080,BCE0362E...</td>\n",
       "    </tr>\n",
       "    <tr>\n",
       "      <th>11</th>\n",
       "      <td>10</td>\n",
       "      <td>BCE0361012730200800000,BCE0361012730200800550,...</td>\n",
       "    </tr>\n",
       "    <tr>\n",
       "      <th>12</th>\n",
       "      <td>11</td>\n",
       "      <td>BCE0361C129D0200800D14,BCE0361C129D0200800D14</td>\n",
       "    </tr>\n",
       "    <tr>\n",
       "      <th>13</th>\n",
       "      <td>12</td>\n",
       "      <td>BCE0361612B60200800D14,BCE0361612B60200800D14,...</td>\n",
       "    </tr>\n",
       "    <tr>\n",
       "      <th>14</th>\n",
       "      <td>13</td>\n",
       "      <td>BCE0362712F00200800000,BCE0362712F00200800000,...</td>\n",
       "    </tr>\n",
       "  </tbody>\n",
       "</table>\n",
       "</div>"
      ],
      "text/plain": [
       "    cluster_id                                           messages\n",
       "0           -1  BCE0362B0321000081,BCE03619128C0200800136,BCE0...\n",
       "1            0  BCE036191290000081,BCE036191281000080,BCE03619...\n",
       "2            1      BCE0361C129D0200800CA9,BCE0361C129D0200800CA9\n",
       "3            2  BCE0361612B20200800CAD,BCE0361612B20200800CB1,...\n",
       "4            3  BCE03619128C02008009C4,BCE03619128C0200800000,...\n",
       "5            4  BCE0361C12A502008009C4,BCE0361C12A50200800000,...\n",
       "6            5  BCE0361612BE0200800000,BCE0361612BE0200800000,...\n",
       "7            6  BCE0361012670200800CA7,BCE03610126B0200800C1A,...\n",
       "8            7      BCE0362712E80200800D14,BCE0362712E80200800D14\n",
       "9            8  BCE0362712E40200800CBC,BCE0362712E80200800CB0,...\n",
       "10           9  BCE0362E094B000080,BCE0362E094C000080,BCE0362E...\n",
       "11          10  BCE0361012730200800000,BCE0361012730200800550,...\n",
       "12          11      BCE0361C129D0200800D14,BCE0361C129D0200800D14\n",
       "13          12  BCE0361612B60200800D14,BCE0361612B60200800D14,...\n",
       "14          13  BCE0362712F00200800000,BCE0362712F00200800000,..."
      ]
     },
     "execution_count": 54,
     "metadata": {},
     "output_type": "execute_result"
    }
   ],
   "source": [
    "df_group"
   ]
  },
  {
   "cell_type": "code",
   "execution_count": 55,
   "id": "49bee753",
   "metadata": {},
   "outputs": [
    {
     "name": "stdout",
     "output_type": "stream",
     "text": [
      "['BCE0362B0321000081', 'BCE03619128C0200800136', 'BCE0361C12A50200800136', 'BCE0362712F00200802710', 'BCE0361612B60200800CDB', 'BCE03610127302008004F6', 'BCE0361912840200800CA9']\n"
     ]
    }
   ],
   "source": [
    "#for cluster of 0 index\n",
    "print(df_group.loc[0]['messages'].split(\",\"))"
   ]
  },
  {
   "cell_type": "code",
   "execution_count": 56,
   "id": "21783834",
   "metadata": {},
   "outputs": [
    {
     "data": {
      "text/plain": [
       " 8     44\n",
       " 9     38\n",
       " 6     33\n",
       " 0     31\n",
       " 2     30\n",
       " 4     28\n",
       " 3     25\n",
       " 12    12\n",
       "-1      7\n",
       " 5      5\n",
       " 13     3\n",
       " 10     3\n",
       " 1      2\n",
       " 11     2\n",
       " 7      2\n",
       "Name: cluster_id, dtype: int64"
      ]
     },
     "execution_count": 56,
     "metadata": {},
     "output_type": "execute_result"
    }
   ],
   "source": [
    "#number of items in each cluster\n",
    "tmp['cluster_id'].value_counts()"
   ]
  },
  {
   "cell_type": "code",
   "execution_count": 66,
   "id": "bc15fd72",
   "metadata": {},
   "outputs": [
    {
     "name": "stdout",
     "output_type": "stream",
     "text": [
      "BCE0361912840200800136\n",
      "BCE036191281000081\n",
      "BCE0361C129D0200800CA9\n",
      "BCE0361612B20200800CAF\n",
      "BCE03619128C02008009C4\n",
      "BCE0361C12A502008009C4\n",
      "BCE0361612BE0200800000\n",
      "BCE03610126B0200800C1A\n",
      "BCE0362712E80200800D14\n",
      "BCE0362712E80200800CB0\n",
      "BCE0362E094C000080\n",
      "BCE0361012730200800000\n",
      "BCE0361C129D0200800D14\n",
      "BCE0361612B60200800D14\n",
      "BCE0362712F00200800000\n"
     ]
    }
   ],
   "source": [
    "for i,item in df_group.iterrows():\n",
    "    x = df_group.loc[i]['messages'].split(\",\")\n",
    "    consensus, msa = poa(x)\n",
    "    print(consensus)\n",
    "    #print(msa)"
   ]
  },
  {
   "cell_type": "code",
   "execution_count": null,
   "id": "d645a115",
   "metadata": {},
   "outputs": [],
   "source": []
  }
 ],
 "metadata": {
  "kernelspec": {
   "display_name": "Python 3",
   "language": "python",
   "name": "python3"
  },
  "language_info": {
   "codemirror_mode": {
    "name": "ipython",
    "version": 3
   },
   "file_extension": ".py",
   "mimetype": "text/x-python",
   "name": "python",
   "nbconvert_exporter": "python",
   "pygments_lexer": "ipython3",
   "version": "3.6.9"
  }
 },
 "nbformat": 4,
 "nbformat_minor": 5
}
